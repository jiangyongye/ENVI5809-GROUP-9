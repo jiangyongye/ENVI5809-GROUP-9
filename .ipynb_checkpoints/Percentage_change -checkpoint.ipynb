{
 "cells": [
  {
   "cell_type": "code",
   "execution_count": 140,
   "id": "c808b28c",
   "metadata": {},
   "outputs": [],
   "source": [
    "import pandas as pd\n",
    "import numpy as np\n",
    "import math \n",
    "from matplotlib import pyplot as plt\n",
    "%matplotlib inline"
   ]
  },
  {
   "cell_type": "code",
   "execution_count": 141,
   "id": "b6e5489c",
   "metadata": {},
   "outputs": [
    {
     "data": {
      "text/plain": [
       "'/home'"
      ]
     },
     "execution_count": 141,
     "metadata": {},
     "output_type": "execute_result"
    }
   ],
   "source": [
    "pwd"
   ]
  },
  {
   "cell_type": "code",
   "execution_count": 142,
   "id": "0dba7837",
   "metadata": {},
   "outputs": [],
   "source": [
    "p_monthly = pd.read_csv('/home/pmonthly.csv')\n",
    "p_daily = pd.read_csv('/home/pdaily.csv')\n",
    "b_monthly = pd.read_csv('/home/bmonthly.csv')\n",
    "b_daily = pd.read_csv('/home/bdaily.csv')\n",
    "r_monthly = pd.read_csv('/home/rmonthly.csv')\n",
    "r_daily = pd.read_csv('/home/rdaily.csv')\n",
    "r_p_monthly = pd.read_csv('/home/r_pmonthly.csv')\n",
    "r_p_daily = pd.read_csv('/home/r_pdaily.csv')\n",
    "r_b_monthly = pd.read_csv('/home/r_bmonthly.csv')\n",
    "r_b_daily = pd.read_csv('/home/r_bdaily.csv')\n",
    "r_r_monthly = pd.read_csv('/home/r_rmonthly.csv')\n",
    "r_r_daily = pd.read_csv('/home/r_rdaily.csv')"
   ]
  },
  {
   "cell_type": "code",
   "execution_count": 143,
   "id": "ec8e6d32",
   "metadata": {},
   "outputs": [],
   "source": [
    "var_DIN = ['DIN']\n",
    "var_PIP = ['PIP']\n",
    "var_TN = ['TOTAL_NITROGEN']\n",
    "var_CHL = ['Chl_a_sum']"
   ]
  },
  {
   "cell_type": "code",
   "execution_count": 144,
   "id": "aee34526",
   "metadata": {},
   "outputs": [],
   "source": [
    "var_DIN = ['DIN']\n",
    "var_PIP = ['PIP']\n",
    "var_TN = ['TOTAL_NITROGEN']\n",
    "var_CHL = ['Chl_a_sum']"
   ]
  },
  {
   "cell_type": "code",
   "execution_count": 145,
   "id": "ce6f4b4a",
   "metadata": {},
   "outputs": [],
   "source": [
    "def choose_one(dataset, var):\n",
    "    return dataset.loc[dataset['Variable'].isin(var)][['Aggregated Date/Time','Site Name', 'mean']]\n"
   ]
  },
  {
   "cell_type": "code",
   "execution_count": 146,
   "id": "bcb2aa3c",
   "metadata": {},
   "outputs": [],
   "source": [
    "#DIN\n",
    "p_monthly_DIN = choose_one(p_monthly, var_DIN)\n",
    "p_daily_DIN = choose_one(p_daily, var_DIN)\n",
    "b_monthly_DIN = choose_one(b_monthly, var_DIN)\n",
    "b_daily_DIN = choose_one(b_daily, var_DIN)\n",
    "r_monthly_DIN = choose_one(r_monthly, var_DIN)\n",
    "r_daily_DIN = choose_one(r_daily, var_DIN)\n",
    "\n",
    "#PIP\n",
    "p_monthly_PIP = choose_one(p_monthly, var_PIP)\n",
    "p_daily_PIP = choose_one(p_daily, var_PIP)\n",
    "b_monthly_PIP = choose_one(b_monthly, var_PIP)\n",
    "b_daily_PIP = choose_one(b_daily, var_PIP)\n",
    "r_monthly_PIP = choose_one(r_monthly, var_PIP)\n",
    "r_daily_PIP = choose_one(r_daily, var_PIP)\n",
    "\n",
    "#CHL\n",
    "r_p_monthly_CHL = choose_one(r_p_monthly, var_CHL)\n",
    "r_p_daily_CHL = choose_one(r_p_daily, var_CHL)\n",
    "r_b_monthly_CHL = choose_one(r_b_monthly, var_CHL)\n",
    "r_b_daily_CHL = choose_one(r_b_daily, var_CHL)\n",
    "r_r_monthly_CHL = choose_one(r_r_monthly, var_CHL)\n",
    "r_r_daily_CHL = choose_one(r_r_daily, var_CHL)\n"
   ]
  },
  {
   "cell_type": "code",
   "execution_count": 147,
   "id": "57d20c08",
   "metadata": {},
   "outputs": [],
   "source": [
    "def produce_time(dataset):\n",
    "    time = []\n",
    "    for index, row in dataset.iterrows():\n",
    "        if row['Aggregated Date/Time'] not in time:\n",
    "            time.append(row['Aggregated Date/Time'])\n",
    "    return time\n"
   ]
  },
  {
   "cell_type": "code",
   "execution_count": 148,
   "id": "468180fc",
   "metadata": {},
   "outputs": [],
   "source": [
    "\n",
    "p_monthly_DIN = choose_one(p_monthly, var_DIN)\n",
    "p_daily_DIN = choose_one(p_daily, var_DIN)\n",
    "b_monthly_DIN = choose_one(b_monthly, var_DIN)\n",
    "b_daily_DIN = choose_one(b_daily, var_DIN)\n",
    "r_monthly_DIN = choose_one(r_monthly, var_DIN)\n",
    "r_daily_DIN = choose_one(r_daily, var_DIN)\n",
    "\n",
    "\n",
    "p_monthly_PIP = choose_one(p_monthly, var_PIP)\n",
    "p_daily_PIP = choose_one(p_daily, var_PIP)\n",
    "b_monthly_PIP = choose_one(b_monthly, var_PIP)\n",
    "b_daily_PIP = choose_one(b_daily, var_PIP)\n",
    "r_monthly_PIP = choose_one(r_monthly, var_PIP)\n",
    "r_daily_PIP = choose_one(r_daily, var_PIP)\n",
    "\n",
    "\n",
    "r_p_monthly_CHL = choose_one(r_p_monthly, var_CHL)\n",
    "r_p_daily_CHL = choose_one(r_p_daily, var_CHL)\n",
    "r_b_monthly_CHL = choose_one(r_b_monthly, var_CHL)\n",
    "r_b_daily_CHL = choose_one(r_b_daily, var_CHL)\n",
    "r_r_monthly_CHL = choose_one(r_r_monthly, var_CHL)\n",
    "r_r_daily_CHL = choose_one(r_r_daily, var_CHL)"
   ]
  },
  {
   "cell_type": "code",
   "execution_count": 149,
   "id": "acfb646d",
   "metadata": {},
   "outputs": [],
   "source": [
    "monthly_time = produce_time(p_monthly_DIN)\n",
    "daily_time = produce_time(p_daily_DIN)\n"
   ]
  },
  {
   "cell_type": "code",
   "execution_count": 150,
   "id": "236da972",
   "metadata": {},
   "outputs": [],
   "source": [
    "def total_average(dataset, period, name):\n",
    "    average = []\n",
    "    count = 0\n",
    "    current = 0\n",
    "    for index, row in dataset.iterrows():\n",
    "        current += row['mean']\n",
    "        count += 1\n",
    "        if count == 5:\n",
    "            average.append(current / 5)\n",
    "            current = 0\n",
    "            count = 0\n",
    "    total_area_average = {name: average}\n",
    "    if period == 'm':\n",
    "        return pd.DataFrame(total_area_average, index = monthly_time)\n",
    "    return pd.DataFrame(total_area_average, index = daily_time)"
   ]
  },
  {
   "cell_type": "code",
   "execution_count": 151,
   "id": "98407d95",
   "metadata": {},
   "outputs": [],
   "source": [
    "DIN_MONTHLY_P = total_average(p_monthly_DIN, 'm', 'DIN_MONTHLY_P')\n",
    "DIN_DAILY_P = total_average(p_daily_DIN, 'd', 'DIN_DAILY_P')\n",
    "DIN_MONTHLY_B = total_average(b_monthly_DIN, 'm', 'DIN_MONTHLY_B')\n",
    "DIN_DAILY_B = total_average(b_daily_DIN, 'd', 'DIN_DAILY_B')\n",
    "DIN_MONTHLY_R = total_average(r_monthly_DIN, 'm', 'DIN_MONTHLY_R')\n",
    "DIN_DAILY_R = total_average(r_daily_DIN, 'd', 'DIN_DAILY_R')\n",
    "\n",
    "PIP_MONTHLY_P = total_average(p_monthly_PIP, 'm', 'PIP_MONTHLY_P')\n",
    "PIP_DAILY_P = total_average(p_daily_PIP, 'd', 'PIP_DAILY_P')\n",
    "PIP_MONTHLY_B = total_average(b_monthly_PIP, 'm', 'PIP_MONTHLY_B')\n",
    "PIP_DAILY_B = total_average(b_daily_PIP, 'd', 'PIP_DAILY_B')\n",
    "PIP_MONTHLY_R = total_average(r_monthly_PIP, 'm', 'PIP_MONTHLY_R')\n",
    "PIP_DAILY_R = total_average(r_daily_PIP, 'd', 'PIP_DAILY_R')\n",
    "\n",
    "r_CHL_MONTHLY_P = total_average(r_p_monthly_CHL, 'm', 'r_CHL_MONTHLY_P')\n",
    "r_CHL_DAILY_P = total_average(r_p_daily_CHL, 'd', 'r_CHL_DAILY_P')\n",
    "r_CHL_MONTHLY_B = total_average(r_b_monthly_CHL, 'm', 'r_CHL_MONTHLY_B')\n",
    "r_CHL_DAILY_B = total_average(r_b_daily_CHL, 'd', 'r_CHL_DAILY_B')\n",
    "r_CHL_MONTHLY_R = total_average(r_r_monthly_CHL, 'm', 'r_CHL_MONTHLY_R')\n",
    "r_CHL_DAILY_R = total_average(r_r_daily_CHL, 'd', 'r_CHL_DAILY_R')"
   ]
  },
  {
   "cell_type": "code",
   "execution_count": 152,
   "id": "493afbff",
   "metadata": {},
   "outputs": [],
   "source": [
    "r_2013_Rchl = r_CHL_MONTHLY_R\n",
    "r_2013_Rchl['date'] = pd.date_range('2013-04-01', periods=73, freq='m')\n",
    "r_2013_Rchl = r_2013_Rchl.set_index(['date'])\n",
    "r_2013_Rchl = (r_2013_Rchl.loc['2013-04-01':'2014-04-01'])\n",
    "r_2013_Rchl_mean = float(r_2013_Rchl.mean())\n",
    "r_2017_Rchl = r_CHL_MONTHLY_R\n",
    "r_2017_Rchl['date'] = pd.date_range('2013-04-01', periods=73, freq='m')\n",
    "r_2017_Rchl = r_2017_Rchl.set_index(['date'])\n",
    "r_2017_Rchl = (r_2017_Rchl.loc['2017-04-01':'2018-04-01'])\n",
    "r_2017_Rchl_mean = float(r_2017_Rchl.mean())\n",
    "r_2018_Rchl = r_CHL_MONTHLY_R\n",
    "r_2018_Rchl['date'] = pd.date_range('2013-04-01', periods=73, freq='m')\n",
    "r_2018_Rchl = r_2018_Rchl.set_index(['date'])\n",
    "r_2018_Rchl = (r_2018_Rchl.loc['2018-04-01':'2019-04-01'])\n",
    "r_2018_Rchl_mean = float(r_2018_Rchl.mean())\n",
    "\n",
    "p_2013_Rchl = r_CHL_MONTHLY_P\n",
    "p_2013_Rchl['date'] = pd.date_range('2013-04-01', periods=73, freq='m')\n",
    "p_2013_Rchl = p_2013_Rchl.set_index(['date'])\n",
    "p_2013_Rchl = (p_2013_Rchl.loc['2013-04-01':'2014-04-01'])\n",
    "p_2013_Rchl_mean = float(p_2013_Rchl.mean())\n",
    "p_2017_Rchl = r_CHL_MONTHLY_P\n",
    "p_2017_Rchl['date'] = pd.date_range('2013-04-01', periods=73, freq='m')\n",
    "p_2017_Rchl = p_2017_Rchl.set_index(['date'])\n",
    "p_2017_Rchl = (p_2017_Rchl.loc['2017-04-01':'2018-04-01'])\n",
    "p_2017_Rchl_mean = float(p_2017_Rchl.mean())\n",
    "p_2018_Rchl = r_CHL_MONTHLY_P\n",
    "p_2018_Rchl['date'] = pd.date_range('2013-04-01', periods=73, freq='m')\n",
    "p_2018_Rchl = p_2018_Rchl.set_index(['date'])\n",
    "p_2018_Rchl = (p_2018_Rchl.loc['2018-04-01':'2019-04-01'])\n",
    "p_2018_Rchl_mean = float(p_2018_Rchl.mean())"
   ]
  },
  {
   "cell_type": "code",
   "execution_count": 153,
   "id": "f31c129e",
   "metadata": {},
   "outputs": [],
   "source": [
    "b_2013_Rchl = r_CHL_MONTHLY_B\n",
    "b_2013_Rchl['date'] = pd.date_range('2013-04-01', periods=73, freq='m')\n",
    "b_2013_Rchl = b_2013_Rchl.set_index(['date'])\n",
    "b_2013_Rchl = (b_2013_Rchl.loc['2013-04-01':'2014-04-01'])\n",
    "b_2013_Rchl_mean = float(b_2013_Rchl.mean())\n",
    "b_2017_Rchl = r_CHL_MONTHLY_B\n",
    "b_2017_Rchl['date'] = pd.date_range('2013-04-01', periods=73, freq='m')\n",
    "b_2017_Rchl = b_2017_Rchl.set_index(['date'])\n",
    "b_2017_Rchl = (b_2017_Rchl.loc['2017-04-01':'2018-04-01'])\n",
    "b_2017_Rchl_mean = float(b_2017_Rchl.mean())\n",
    "b_2018_Rchl = r_CHL_MONTHLY_B\n",
    "b_2018_Rchl['date'] = pd.date_range('2013-04-01', periods=73, freq='m')\n",
    "b_2018_Rchl = b_2018_Rchl.set_index(['date'])\n",
    "b_2018_Rchl = (b_2018_Rchl.loc['2018-04-01':'2019-04-01'])\n",
    "b_2018_Rchl_mean = float(b_2018_Rchl.mean())\n"
   ]
  },
  {
   "cell_type": "code",
   "execution_count": 154,
   "id": "e08c1d63",
   "metadata": {},
   "outputs": [],
   "source": [
    "r_2013_PIP = PIP_MONTHLY_R\n",
    "r_2013_PIP['date'] = pd.date_range('2013-04-01', periods=73, freq='m')\n",
    "r_2013_PIP = r_2013_PIP.set_index(['date'])\n",
    "r_2013_PIP = (r_2013_PIP.loc['2013-04-01':'2014-04-01'])\n",
    "r_2013_PIP_mean = float(r_2013_PIP.mean())\n",
    "r_2017_PIP = PIP_MONTHLY_R\n",
    "r_2017_PIP['date'] = pd.date_range('2013-04-01', periods=73, freq='m')\n",
    "r_2017_PIP = r_2017_PIP.set_index(['date'])\n",
    "r_2017_PIP = (r_2017_PIP.loc['2017-04-01':'2018-04-01'])\n",
    "r_2017_PIP_mean = float(r_2017_PIP.mean())\n",
    "r_2018_PIP = PIP_MONTHLY_R\n",
    "r_2018_PIP['date'] = pd.date_range('2013-04-01', periods=73, freq='m')\n",
    "r_2018_PIP = r_2018_PIP.set_index(['date'])\n",
    "r_2018_PIP = (r_2018_PIP.loc['2018-04-01':'2019-04-01'])\n",
    "r_2018_PIP_mean = float(r_2018_PIP.mean())\n"
   ]
  },
  {
   "cell_type": "code",
   "execution_count": 155,
   "id": "873351c4",
   "metadata": {},
   "outputs": [],
   "source": [
    "b_2013_PIP = PIP_MONTHLY_B\n",
    "b_2013_PIP['date'] = pd.date_range('2013-04-01', periods=73, freq='m')\n",
    "b_2013_PIP = b_2013_PIP.set_index(['date'])\n",
    "b_2013_PIP = (b_2013_PIP.loc['2013-04-01':'2014-04-01'])\n",
    "b_2013_PIP_mean = float(b_2013_PIP.mean())\n",
    "b_2018_PIP = PIP_MONTHLY_B\n",
    "b_2018_PIP['date'] = pd.date_range('2013-04-01', periods=73, freq='m')\n",
    "b_2018_PIP = b_2018_PIP.set_index(['date'])\n",
    "b_2018_PIP = (b_2018_PIP.loc['2018-04-01':'2019-04-01'])\n",
    "b_2018_PIP_mean = float(b_2018_PIP.mean())\n",
    "b_2017_PIP = PIP_MONTHLY_B\n",
    "b_2017_PIP['date'] = pd.date_range('2013-04-01', periods=73, freq='m')\n",
    "b_2017_PIP = b_2017_PIP.set_index(['date'])\n",
    "b_2017_PIP = (b_2017_PIP.loc['2017-04-01':'2018-04-01'])\n",
    "b_2017_PIP_mean = float(b_2017_PIP.mean())"
   ]
  },
  {
   "cell_type": "code",
   "execution_count": 156,
   "id": "5bae0d3b",
   "metadata": {},
   "outputs": [],
   "source": [
    "p_2018_PIP = PIP_MONTHLY_P\n",
    "p_2018_PIP['date'] = pd.date_range('2013-04-01', periods=73, freq='m')\n",
    "p_2018_PIP = p_2018_PIP.set_index(['date'])\n",
    "p_2018_PIP = (p_2018_PIP.loc['2018-04-01':'2019-04-01'])\n",
    "p_2018_PIP_mean = float(p_2018_PIP.mean())\n",
    "p_2017_PIP = PIP_MONTHLY_P\n",
    "p_2017_PIP['date'] = pd.date_range('2013-04-01', periods=73, freq='m')\n",
    "p_2017_PIP = p_2017_PIP.set_index(['date'])\n",
    "p_2017_PIP = (p_2017_PIP.loc['2017-04-01':'2018-04-01'])\n",
    "p_2017_PIP_mean = float(p_2017_PIP.mean())\n",
    "p_2013_PIP = PIP_MONTHLY_P\n",
    "p_2013_PIP['date'] = pd.date_range('2013-04-01', periods=73, freq='m')\n",
    "p_2013_PIP = p_2013_PIP.set_index(['date'])\n",
    "p_2013_PIP = (p_2013_PIP.loc['2013-04-01':'2014-04-01'])\n",
    "p_2013_PIP_mean = float(p_2013_PIP.mean())"
   ]
  },
  {
   "cell_type": "code",
   "execution_count": 157,
   "id": "2039f535",
   "metadata": {},
   "outputs": [],
   "source": [
    "p_2018_DIN = DIN_MONTHLY_P\n",
    "p_2018_DIN['date'] = pd.date_range('2013-04-01', periods=73, freq='m')\n",
    "p_2018_DIN = p_2018_DIN.set_index(['date'])\n",
    "p_2018_DIN = (p_2018_DIN.loc['2018-04-01':'2019-04-01'])\n",
    "p_2018_DIN_mean = float(p_2018_DIN.mean())\n",
    "p_2017_DIN = DIN_MONTHLY_P\n",
    "p_2017_DIN['date'] = pd.date_range('2013-04-01', periods=73, freq='m')\n",
    "p_2017_DIN = p_2017_DIN.set_index(['date'])\n",
    "p_2017_DIN = (p_2017_DIN.loc['2017-04-01':'2018-04-01'])\n",
    "p_2017_DIN_mean = float(p_2017_DIN.mean())\n",
    "p_2013_DIN = DIN_MONTHLY_P\n",
    "p_2013_DIN['date'] = pd.date_range('2013-04-01', periods=73, freq='m')\n",
    "p_2013_DIN = p_2013_DIN.set_index(['date'])\n",
    "p_2013_DIN = (p_2013_DIN.loc['2013-04-01':'2014-04-01'])\n",
    "p_2013_DIN_mean = float(p_2013_DIN.mean())"
   ]
  },
  {
   "cell_type": "code",
   "execution_count": 158,
   "id": "12d2f68d",
   "metadata": {},
   "outputs": [],
   "source": [
    "b_2018_DIN = DIN_MONTHLY_B\n",
    "b_2018_DIN['date'] = pd.date_range('2013-04-01', periods=73, freq='m')\n",
    "b_2018_DIN = b_2018_DIN.set_index(['date'])\n",
    "b_2018_DIN = (b_2018_DIN.loc['2018-04-01':'2019-04-01'])\n",
    "b_2018_DIN_mean = float(b_2018_DIN.mean())\n",
    "b_2017_DIN = DIN_MONTHLY_B\n",
    "b_2017_DIN['date'] = pd.date_range('2013-04-01', periods=73, freq='m')\n",
    "b_2017_DIN = b_2017_DIN.set_index(['date'])\n",
    "b_2017_DIN = (b_2017_DIN.loc['2017-04-01':'2018-04-01'])\n",
    "b_2017_DIN_mean = float(b_2017_DIN.mean())\n",
    "b_2013_DIN = DIN_MONTHLY_B\n",
    "b_2013_DIN['date'] = pd.date_range('2013-04-01', periods=73, freq='m')\n",
    "b_2013_DIN = b_2013_DIN.set_index(['date'])\n",
    "b_2013_DIN = (b_2013_DIN.loc['2013-04-01':'2014-04-01'])\n",
    "b_2013_DIN_mean = float(b_2013_DIN.mean())"
   ]
  },
  {
   "cell_type": "code",
   "execution_count": 159,
   "id": "784d4e27",
   "metadata": {},
   "outputs": [],
   "source": [
    "r_2018_DIN = DIN_MONTHLY_R\n",
    "r_2018_DIN['date'] = pd.date_range('2013-04-01', periods=73, freq='m')\n",
    "r_2018_DIN = r_2018_DIN.set_index(['date'])\n",
    "r_2018_DIN = (r_2018_DIN.loc['2018-04-01':'2019-04-01'])\n",
    "r_2018_DIN_mean = float(r_2018_DIN.mean())\n",
    "\n",
    "r_2017_DIN = DIN_MONTHLY_R\n",
    "r_2017_DIN['date'] = pd.date_range('2013-04-01', periods=73, freq='m')\n",
    "r_2017_DIN = r_2017_DIN.set_index(['date'])\n",
    "r_2017_DIN = (r_2017_DIN.loc['2017-04-01':'2018-04-01'])\n",
    "r_2017_DIN_mean = float(r_2017_DIN.mean())\n",
    "\n",
    "r_2013_DIN = DIN_MONTHLY_R\n",
    "r_2013_DIN['date'] = pd.date_range('2013-04-01', periods=73, freq='m')\n",
    "r_2013_DIN = r_2013_DIN.set_index(['date'])\n",
    "r_2013_DIN = (r_2013_DIN.loc['2013-04-01':'2014-04-01'])\n",
    "r_2013_DIN_mean = float(r_2013_DIN.mean())"
   ]
  },
  {
   "cell_type": "code",
   "execution_count": 160,
   "id": "81065d83",
   "metadata": {},
   "outputs": [],
   "source": [
    "# define anthroprogenic load variables \n",
    "\n",
    "\n",
    "r_anth_2013_PIP = r_2013_PIP_mean - p_2013_PIP_mean\n",
    "r_anth_2017_PIP = r_2017_PIP_mean - p_2017_PIP_mean\n",
    "r_anth_2018_PIP = r_2018_PIP_mean - p_2018_PIP_mean\n",
    "r_anth_2013_DIN = r_2013_DIN_mean - p_2013_DIN_mean\n",
    "r_anth_2017_DIN = r_2017_DIN_mean - p_2017_DIN_mean\n",
    "r_anth_2018_DIN = r_2018_DIN_mean - p_2018_DIN_mean\n",
    "r_anth_2013_Rchl = r_2013_Rchl_mean - p_2013_Rchl_mean\n",
    "r_anth_2017_Rchl = r_2017_Rchl_mean - p_2017_Rchl_mean\n",
    "r_anth_2018_Rchl = r_2018_Rchl_mean - p_2018_Rchl_mean\n",
    "\n",
    "b_anth_2013_PIP = b_2013_PIP_mean - p_2013_PIP_mean\n",
    "b_anth_2017_PIP = b_2017_PIP_mean - p_2017_PIP_mean\n",
    "b_anth_2018_PIP = b_2018_PIP_mean - p_2018_PIP_mean\n",
    "b_anth_2013_DIN = b_2013_DIN_mean - p_2013_DIN_mean\n",
    "b_anth_2017_DIN = b_2017_DIN_mean - p_2017_DIN_mean\n",
    "b_anth_2018_DIN = b_2018_DIN_mean - p_2018_DIN_mean\n",
    "b_anth_2013_Rchl = b_2013_Rchl_mean - p_2013_Rchl_mean\n",
    "b_anth_2017_Rchl = b_2017_Rchl_mean - p_2017_Rchl_mean\n",
    "b_anth_2018_Rchl = b_2018_Rchl_mean - p_2018_Rchl_mean"
   ]
  },
  {
   "cell_type": "code",
   "execution_count": 161,
   "id": "4b437795",
   "metadata": {},
   "outputs": [],
   "source": [
    "def get_change(current, previous):\n",
    "    if current == previous:\n",
    "        return 100.0\n",
    "    try:\n",
    "        return (float(current - previous) * 100.0)/previous\n",
    "    except ZeroDivisionError:\n",
    "        return 0"
   ]
  },
  {
   "cell_type": "code",
   "execution_count": 162,
   "id": "be78c417",
   "metadata": {},
   "outputs": [],
   "source": [
    "r_2017_PIP_change = get_change(r_anth_2017_PIP, r_anth_2013_PIP)\n",
    "r_2018_PIP_change = get_change(r_anth_2018_PIP, r_anth_2013_PIP)\n",
    "r_2017_DIN_change = get_change(r_anth_2017_DIN, r_anth_2013_DIN)\n",
    "r_2018_DIN_change = get_change(r_anth_2018_DIN, r_anth_2013_DIN)\n",
    "r_2017_Rchl_change = get_change(r_anth_2017_Rchl, r_anth_2013_Rchl)\n",
    "r_2018_Rchl_change = get_change(r_anth_2018_Rchl, r_anth_2013_Rchl)\n",
    "\n",
    "b_2017_DIN_change = get_change(b_anth_2017_DIN, b_anth_2013_DIN)\n",
    "b_2018_DIN_change = get_change(b_anth_2018_DIN, b_anth_2013_DIN)\n",
    "b_2017_PIP_change = get_change(b_anth_2017_PIP, b_anth_2013_PIP)\n",
    "b_2018_PIP_change = get_change(b_anth_2018_PIP, b_anth_2013_PIP)\n",
    "b_2017_Rchl_change = get_change(b_anth_2017_Rchl, b_anth_2013_Rchl)\n",
    "b_2018_Rchl_change = get_change(b_anth_2018_Rchl, b_anth_2013_Rchl)"
   ]
  },
  {
   "cell_type": "code",
   "execution_count": 163,
   "id": "695fb60e",
   "metadata": {},
   "outputs": [
    {
     "data": {
      "text/plain": [
       "110.76878794410527"
      ]
     },
     "execution_count": 163,
     "metadata": {},
     "output_type": "execute_result"
    }
   ],
   "source": [
    "r_2017_PIP_change"
   ]
  },
  {
   "cell_type": "code",
   "execution_count": 164,
   "id": "43e853b6",
   "metadata": {},
   "outputs": [
    {
     "data": {
      "text/plain": [
       "1191.977729232872"
      ]
     },
     "execution_count": 164,
     "metadata": {},
     "output_type": "execute_result"
    }
   ],
   "source": [
    "r_2018_PIP_change"
   ]
  },
  {
   "cell_type": "code",
   "execution_count": 165,
   "id": "55eced1a",
   "metadata": {},
   "outputs": [
    {
     "data": {
      "text/plain": [
       "-7.4569944887227235"
      ]
     },
     "execution_count": 165,
     "metadata": {},
     "output_type": "execute_result"
    }
   ],
   "source": [
    "r_2017_DIN_change"
   ]
  },
  {
   "cell_type": "code",
   "execution_count": 166,
   "id": "78efa9f2",
   "metadata": {},
   "outputs": [
    {
     "data": {
      "text/plain": [
       "54.36694075343417"
      ]
     },
     "execution_count": 166,
     "metadata": {},
     "output_type": "execute_result"
    }
   ],
   "source": [
    "r_2018_DIN_change"
   ]
  },
  {
   "cell_type": "code",
   "execution_count": 167,
   "id": "4170a68d",
   "metadata": {},
   "outputs": [
    {
     "data": {
      "text/plain": [
       "-18.949761981140227"
      ]
     },
     "execution_count": 167,
     "metadata": {},
     "output_type": "execute_result"
    }
   ],
   "source": [
    "r_2017_Rchl_change"
   ]
  },
  {
   "cell_type": "code",
   "execution_count": 168,
   "id": "b312c223",
   "metadata": {},
   "outputs": [
    {
     "data": {
      "text/plain": [
       "145.08401205586216"
      ]
     },
     "execution_count": 168,
     "metadata": {},
     "output_type": "execute_result"
    }
   ],
   "source": [
    "r_2018_Rchl_change"
   ]
  },
  {
   "cell_type": "code",
   "execution_count": 169,
   "id": "0a644c3a",
   "metadata": {},
   "outputs": [
    {
     "data": {
      "text/plain": [
       "17.51536161965319"
      ]
     },
     "execution_count": 169,
     "metadata": {},
     "output_type": "execute_result"
    }
   ],
   "source": [
    "b_2017_DIN_change"
   ]
  },
  {
   "cell_type": "code",
   "execution_count": 170,
   "id": "8611e409",
   "metadata": {},
   "outputs": [
    {
     "data": {
      "text/plain": [
       "68.19604337063325"
      ]
     },
     "execution_count": 170,
     "metadata": {},
     "output_type": "execute_result"
    }
   ],
   "source": [
    "b_2018_DIN_change"
   ]
  },
  {
   "cell_type": "code",
   "execution_count": 171,
   "id": "e5e5159d",
   "metadata": {},
   "outputs": [
    {
     "data": {
      "text/plain": [
       "113.21061818135486"
      ]
     },
     "execution_count": 171,
     "metadata": {},
     "output_type": "execute_result"
    }
   ],
   "source": [
    "b_2017_PIP_change"
   ]
  },
  {
   "cell_type": "code",
   "execution_count": 172,
   "id": "39944699",
   "metadata": {},
   "outputs": [
    {
     "data": {
      "text/plain": [
       "1214.322621410568"
      ]
     },
     "execution_count": 172,
     "metadata": {},
     "output_type": "execute_result"
    }
   ],
   "source": [
    "b_2018_PIP_change"
   ]
  },
  {
   "cell_type": "code",
   "execution_count": 173,
   "id": "a8df675d",
   "metadata": {},
   "outputs": [
    {
     "data": {
      "text/plain": [
       "-81.43378549964562"
      ]
     },
     "execution_count": 173,
     "metadata": {},
     "output_type": "execute_result"
    }
   ],
   "source": [
    "b_2017_Rchl_change"
   ]
  },
  {
   "cell_type": "code",
   "execution_count": 174,
   "id": "7cf7dd2a",
   "metadata": {},
   "outputs": [
    {
     "data": {
      "text/plain": [
       "42.589586951689974"
      ]
     },
     "execution_count": 174,
     "metadata": {},
     "output_type": "execute_result"
    }
   ],
   "source": [
    "b_2018_Rchl_change"
   ]
  }
 ],
 "metadata": {
  "kernelspec": {
   "display_name": "Python 3 (ipykernel)",
   "language": "python",
   "name": "python3"
  },
  "language_info": {
   "codemirror_mode": {
    "name": "ipython",
    "version": 3
   },
   "file_extension": ".py",
   "mimetype": "text/x-python",
   "name": "python",
   "nbconvert_exporter": "python",
   "pygments_lexer": "ipython3",
   "version": "3.9.7"
  }
 },
 "nbformat": 4,
 "nbformat_minor": 5
}
