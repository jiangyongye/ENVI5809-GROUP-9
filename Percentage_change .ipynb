{
 "cells": [
  {
   "cell_type": "code",
   "execution_count": 16,
   "id": "c808b28c",
   "metadata": {},
   "outputs": [],
   "source": [
    "import pandas as pd\n",
    "import numpy as np\n",
    "import math \n",
    "from matplotlib import pyplot as plt\n",
    "%matplotlib inline"
   ]
  },
  {
   "cell_type": "code",
   "execution_count": 17,
   "id": "b6e5489c",
   "metadata": {},
   "outputs": [
    {
     "data": {
      "text/plain": [
       "'/home'"
      ]
     },
     "execution_count": 17,
     "metadata": {},
     "output_type": "execute_result"
    }
   ],
   "source": [
    "pwd"
   ]
  },
  {
   "cell_type": "code",
   "execution_count": 18,
   "id": "0dba7837",
   "metadata": {},
   "outputs": [],
   "source": [
    "p_monthly = pd.read_csv('/home/pmonthly.csv')\n",
    "p_daily = pd.read_csv('/home/pdaily.csv')\n",
    "b_monthly = pd.read_csv('/home/bmonthly.csv')\n",
    "b_daily = pd.read_csv('/home/bdaily.csv')\n",
    "r_monthly = pd.read_csv('/home/rmonthly.csv')\n",
    "r_daily = pd.read_csv('/home/rdaily.csv')\n",
    "r_p_monthly = pd.read_csv('/home/r_pmonthly.csv')\n",
    "r_p_daily = pd.read_csv('/home/r_pdaily.csv')\n",
    "r_b_monthly = pd.read_csv('/home/r_bmonthly.csv')\n",
    "r_b_daily = pd.read_csv('/home/r_bdaily.csv')\n",
    "r_r_monthly = pd.read_csv('/home/r_rmonthly.csv')\n",
    "r_r_daily = pd.read_csv('/home/r_rdaily.csv')"
   ]
  },
  {
   "cell_type": "code",
   "execution_count": 19,
   "id": "ec8e6d32",
   "metadata": {},
   "outputs": [],
   "source": [
    "var_DIN = ['DIN']\n",
    "var_PIP = ['PIP']\n",
    "var_TN = ['TOTAL_NITROGEN']\n",
    "var_CHL = ['Chl_a_sum']"
   ]
  },
  {
   "cell_type": "code",
   "execution_count": 20,
   "id": "aee34526",
   "metadata": {},
   "outputs": [],
   "source": [
    "var_DIN = ['DIN']\n",
    "var_PIP = ['PIP']\n",
    "var_TN = ['TOTAL_NITROGEN']\n",
    "var_CHL = ['Chl_a_sum']"
   ]
  },
  {
   "cell_type": "code",
   "execution_count": 21,
   "id": "ce6f4b4a",
   "metadata": {},
   "outputs": [],
   "source": [
    "def choose_one(dataset, var):\n",
    "    return dataset.loc[dataset['Variable'].isin(var)][['Aggregated Date/Time','Site Name', 'mean']]\n"
   ]
  },
  {
   "cell_type": "code",
   "execution_count": 22,
   "id": "bcb2aa3c",
   "metadata": {},
   "outputs": [],
   "source": [
    "#DIN\n",
    "p_monthly_DIN = choose_one(p_monthly, var_DIN)\n",
    "p_daily_DIN = choose_one(p_daily, var_DIN)\n",
    "b_monthly_DIN = choose_one(b_monthly, var_DIN)\n",
    "b_daily_DIN = choose_one(b_daily, var_DIN)\n",
    "r_monthly_DIN = choose_one(r_monthly, var_DIN)\n",
    "r_daily_DIN = choose_one(r_daily, var_DIN)\n",
    "p_monthly_PIP = choose_one(p_monthly, var_PIP)\n",
    "p_daily_PIP = choose_one(p_daily, var_PIP)\n",
    "b_monthly_PIP = choose_one(b_monthly, var_PIP)\n",
    "b_daily_PIP = choose_one(b_daily, var_PIP)\n",
    "r_monthly_PIP = choose_one(r_monthly, var_PIP)\n",
    "r_daily_PIP = choose_one(r_daily, var_PIP)\n",
    "r_p_monthly_CHL = choose_one(r_p_monthly, var_CHL)\n",
    "r_p_daily_CHL = choose_one(r_p_daily, var_CHL)\n",
    "r_b_monthly_CHL = choose_one(r_b_monthly, var_CHL)\n",
    "r_b_daily_CHL = choose_one(r_b_daily, var_CHL)\n",
    "r_r_monthly_CHL = choose_one(r_r_monthly, var_CHL)\n",
    "r_r_daily_CHL = choose_one(r_r_daily, var_CHL)\n"
   ]
  },
  {
   "cell_type": "code",
   "execution_count": 23,
   "id": "57d20c08",
   "metadata": {},
   "outputs": [],
   "source": [
    "def produce_time(dataset):\n",
    "    time = []\n",
    "    for index, row in dataset.iterrows():\n",
    "        if row['Aggregated Date/Time'] not in time:\n",
    "            time.append(row['Aggregated Date/Time'])\n",
    "    return time\n"
   ]
  },
  {
   "cell_type": "code",
   "execution_count": 24,
   "id": "468180fc",
   "metadata": {},
   "outputs": [],
   "source": [
    "\n",
    "p_monthly_DIN = choose_one(p_monthly, var_DIN)\n",
    "p_daily_DIN = choose_one(p_daily, var_DIN)\n",
    "b_monthly_DIN = choose_one(b_monthly, var_DIN)\n",
    "b_daily_DIN = choose_one(b_daily, var_DIN)\n",
    "r_monthly_DIN = choose_one(r_monthly, var_DIN)\n",
    "r_daily_DIN = choose_one(r_daily, var_DIN)\n",
    "p_monthly_PIP = choose_one(p_monthly, var_PIP)\n",
    "p_daily_PIP = choose_one(p_daily, var_PIP)\n",
    "b_monthly_PIP = choose_one(b_monthly, var_PIP)\n",
    "b_daily_PIP = choose_one(b_daily, var_PIP)\n",
    "r_monthly_PIP = choose_one(r_monthly, var_PIP)\n",
    "r_daily_PIP = choose_one(r_daily, var_PIP)\n",
    "r_p_monthly_CHL = choose_one(r_p_monthly, var_CHL)\n",
    "r_p_daily_CHL = choose_one(r_p_daily, var_CHL)\n",
    "r_b_monthly_CHL = choose_one(r_b_monthly, var_CHL)\n",
    "r_b_daily_CHL = choose_one(r_b_daily, var_CHL)\n",
    "r_r_monthly_CHL = choose_one(r_r_monthly, var_CHL)\n",
    "r_r_daily_CHL = choose_one(r_r_daily, var_CHL)"
   ]
  },
  {
   "cell_type": "code",
   "execution_count": 25,
   "id": "acfb646d",
   "metadata": {},
   "outputs": [],
   "source": [
    "monthly_time = produce_time(p_monthly_DIN)\n",
    "daily_time = produce_time(p_daily_DIN)\n"
   ]
  },
  {
   "cell_type": "code",
   "execution_count": 26,
   "id": "236da972",
   "metadata": {},
   "outputs": [],
   "source": [
    "def total_average(dataset, period, name):\n",
    "    average = []\n",
    "    count = 0\n",
    "    current = 0\n",
    "    for index, row in dataset.iterrows():\n",
    "        current += row['mean']\n",
    "        count += 1\n",
    "        if count == 5:\n",
    "            average.append(current / 5)\n",
    "            current = 0\n",
    "            count = 0\n",
    "    total_area_average = {name: average}\n",
    "    if period == 'm':\n",
    "        return pd.DataFrame(total_area_average, index = monthly_time)\n",
    "    return pd.DataFrame(total_area_average, index = daily_time)"
   ]
  },
  {
   "cell_type": "code",
   "execution_count": 27,
   "id": "98407d95",
   "metadata": {},
   "outputs": [],
   "source": [
    "DIN_MONTHLY_P = total_average(p_monthly_DIN, 'm', 'DIN_MONTHLY_P')\n",
    "DIN_DAILY_P = total_average(p_daily_DIN, 'd', 'DIN_DAILY_P')\n",
    "DIN_MONTHLY_B = total_average(b_monthly_DIN, 'm', 'DIN_MONTHLY_B')\n",
    "DIN_DAILY_B = total_average(b_daily_DIN, 'd', 'DIN_DAILY_B')\n",
    "DIN_MONTHLY_R = total_average(r_monthly_DIN, 'm', 'DIN_MONTHLY_R')\n",
    "DIN_DAILY_R = total_average(r_daily_DIN, 'd', 'DIN_DAILY_R')\n",
    "\n",
    "PIP_MONTHLY_P = total_average(p_monthly_PIP, 'm', 'PIP_MONTHLY_P')\n",
    "PIP_DAILY_P = total_average(p_daily_PIP, 'd', 'PIP_DAILY_P')\n",
    "PIP_MONTHLY_B = total_average(b_monthly_PIP, 'm', 'PIP_MONTHLY_B')\n",
    "PIP_DAILY_B = total_average(b_daily_PIP, 'd', 'PIP_DAILY_B')\n",
    "PIP_MONTHLY_R = total_average(r_monthly_PIP, 'm', 'PIP_MONTHLY_R')\n",
    "PIP_DAILY_R = total_average(r_daily_PIP, 'd', 'PIP_DAILY_R')\n",
    "\n",
    "r_CHL_MONTHLY_P = total_average(r_p_monthly_CHL, 'm', 'r_CHL_MONTHLY_P')\n",
    "r_CHL_DAILY_P = total_average(r_p_daily_CHL, 'd', 'r_CHL_DAILY_P')\n",
    "r_CHL_MONTHLY_B = total_average(r_b_monthly_CHL, 'm', 'r_CHL_MONTHLY_B')\n",
    "r_CHL_DAILY_B = total_average(r_b_daily_CHL, 'd', 'r_CHL_DAILY_B')\n",
    "r_CHL_MONTHLY_R = total_average(r_r_monthly_CHL, 'm', 'r_CHL_MONTHLY_R')\n",
    "r_CHL_DAILY_R = total_average(r_r_daily_CHL, 'd', 'r_CHL_DAILY_R')"
   ]
  },
  {
   "cell_type": "code",
   "execution_count": 55,
   "id": "6dbb19be",
   "metadata": {},
   "outputs": [
    {
     "data": {
      "text/html": [
       "<div>\n",
       "<style scoped>\n",
       "    .dataframe tbody tr th:only-of-type {\n",
       "        vertical-align: middle;\n",
       "    }\n",
       "\n",
       "    .dataframe tbody tr th {\n",
       "        vertical-align: top;\n",
       "    }\n",
       "\n",
       "    .dataframe thead th {\n",
       "        text-align: right;\n",
       "    }\n",
       "</style>\n",
       "<table border=\"1\" class=\"dataframe\">\n",
       "  <thead>\n",
       "    <tr style=\"text-align: right;\">\n",
       "      <th></th>\n",
       "      <th>DIN_MONTHLY_B</th>\n",
       "      <th>date</th>\n",
       "    </tr>\n",
       "  </thead>\n",
       "  <tbody>\n",
       "    <tr>\n",
       "      <th>2013-04-01T00:00</th>\n",
       "      <td>40.246062</td>\n",
       "      <td>2013-04-30</td>\n",
       "    </tr>\n",
       "    <tr>\n",
       "      <th>2013-05-01T00:00</th>\n",
       "      <td>20.973976</td>\n",
       "      <td>2013-05-31</td>\n",
       "    </tr>\n",
       "    <tr>\n",
       "      <th>2013-06-01T00:00</th>\n",
       "      <td>11.632424</td>\n",
       "      <td>2013-06-30</td>\n",
       "    </tr>\n",
       "    <tr>\n",
       "      <th>2013-07-01T00:00</th>\n",
       "      <td>8.530580</td>\n",
       "      <td>2013-07-31</td>\n",
       "    </tr>\n",
       "    <tr>\n",
       "      <th>2013-08-01T00:00</th>\n",
       "      <td>6.885672</td>\n",
       "      <td>2013-08-31</td>\n",
       "    </tr>\n",
       "    <tr>\n",
       "      <th>...</th>\n",
       "      <td>...</td>\n",
       "      <td>...</td>\n",
       "    </tr>\n",
       "    <tr>\n",
       "      <th>2018-12-01T00:00</th>\n",
       "      <td>5.884485</td>\n",
       "      <td>2018-12-31</td>\n",
       "    </tr>\n",
       "    <tr>\n",
       "      <th>2019-01-01T00:00</th>\n",
       "      <td>22.002097</td>\n",
       "      <td>2019-01-31</td>\n",
       "    </tr>\n",
       "    <tr>\n",
       "      <th>2019-02-01T00:00</th>\n",
       "      <td>160.448041</td>\n",
       "      <td>2019-02-28</td>\n",
       "    </tr>\n",
       "    <tr>\n",
       "      <th>2019-03-01T00:00</th>\n",
       "      <td>246.675224</td>\n",
       "      <td>2019-03-31</td>\n",
       "    </tr>\n",
       "    <tr>\n",
       "      <th>2019-04-01T00:00</th>\n",
       "      <td>292.213828</td>\n",
       "      <td>2019-04-30</td>\n",
       "    </tr>\n",
       "  </tbody>\n",
       "</table>\n",
       "<p>73 rows × 2 columns</p>\n",
       "</div>"
      ],
      "text/plain": [
       "                  DIN_MONTHLY_B       date\n",
       "2013-04-01T00:00      40.246062 2013-04-30\n",
       "2013-05-01T00:00      20.973976 2013-05-31\n",
       "2013-06-01T00:00      11.632424 2013-06-30\n",
       "2013-07-01T00:00       8.530580 2013-07-31\n",
       "2013-08-01T00:00       6.885672 2013-08-31\n",
       "...                         ...        ...\n",
       "2018-12-01T00:00       5.884485 2018-12-31\n",
       "2019-01-01T00:00      22.002097 2019-01-31\n",
       "2019-02-01T00:00     160.448041 2019-02-28\n",
       "2019-03-01T00:00     246.675224 2019-03-31\n",
       "2019-04-01T00:00     292.213828 2019-04-30\n",
       "\n",
       "[73 rows x 2 columns]"
      ]
     },
     "execution_count": 55,
     "metadata": {},
     "output_type": "execute_result"
    }
   ],
   "source": [
    "DIN_MONTHLY_B"
   ]
  },
  {
   "cell_type": "code",
   "execution_count": null,
   "id": "153a3712",
   "metadata": {},
   "outputs": [],
   "source": []
  },
  {
   "cell_type": "code",
   "execution_count": null,
   "id": "cf0c2002",
   "metadata": {},
   "outputs": [],
   "source": []
  },
  {
   "cell_type": "code",
   "execution_count": 35,
   "id": "493afbff",
   "metadata": {},
   "outputs": [],
   "source": [
    "r_2013_Rchl = r_CHL_MONTHLY_R\n",
    "r_2013_Rchl['date'] = pd.date_range('2013-04-01', periods=73, freq='m')\n",
    "r_2013_Rchl = r_2013_Rchl.set_index(['date'])\n",
    "r_2013_Rchl = (r_2013_Rchl.loc['2013-04-01':'2014-04-01'])\n",
    "r_2013_Rchl_mean = float(r_2013_Rchl.mean())\n",
    "r_2017_Rchl = r_CHL_MONTHLY_R\n",
    "r_2017_Rchl['date'] = pd.date_range('2013-04-01', periods=73, freq='m')\n",
    "r_2017_Rchl = r_2017_Rchl.set_index(['date'])\n",
    "r_2017_Rchl = (r_2017_Rchl.loc['2017-04-01':'2018-04-01'])\n",
    "r_2017_Rchl_mean = float(r_2017_Rchl.mean())\n",
    "r_2018_Rchl = r_CHL_MONTHLY_R\n",
    "r_2018_Rchl['date'] = pd.date_range('2013-04-01', periods=73, freq='m')\n",
    "r_2018_Rchl = r_2018_Rchl.set_index(['date'])\n",
    "r_2018_Rchl = (r_2018_Rchl.loc['2018-04-01':'2019-04-01'])\n",
    "r_2018_Rchl_mean = float(r_2018_Rchl.mean())\n",
    "p_2013_Rchl = r_CHL_MONTHLY_P\n",
    "p_2013_Rchl['date'] = pd.date_range('2013-04-01', periods=73, freq='m')\n",
    "p_2013_Rchl = p_2013_Rchl.set_index(['date'])\n",
    "p_2013_Rchl = (p_2013_Rchl.loc['2013-04-01':'2014-04-01'])\n",
    "p_2013_Rchl_mean = float(p_2013_Rchl.mean())\n",
    "p_2017_Rchl = r_CHL_MONTHLY_P\n",
    "p_2017_Rchl['date'] = pd.date_range('2013-04-01', periods=73, freq='m')\n",
    "p_2017_Rchl = p_2017_Rchl.set_index(['date'])\n",
    "p_2017_Rchl = (p_2017_Rchl.loc['2017-04-01':'2018-04-01'])\n",
    "p_2017_Rchl_mean = float(p_2017_Rchl.mean())\n",
    "p_2018_Rchl = r_CHL_MONTHLY_P\n",
    "p_2018_Rchl['date'] = pd.date_range('2013-04-01', periods=73, freq='m')\n",
    "p_2018_Rchl = p_2018_Rchl.set_index(['date'])\n",
    "p_2018_Rchl = (p_2018_Rchl.loc['2018-04-01':'2019-04-01'])\n",
    "p_2018_Rchl_mean = float(p_2018_Rchl.mean())\n",
    "b_2013_Rchl = r_CHL_MONTHLY_B\n",
    "b_2013_Rchl['date'] = pd.date_range('2013-04-01', periods=73, freq='m')\n",
    "b_2013_Rchl = b_2013_Rchl.set_index(['date'])\n",
    "b_2013_Rchl = (b_2013_Rchl.loc['2013-04-01':'2014-04-01'])\n",
    "b_2013_Rchl_mean = float(b_2013_Rchl.mean())\n",
    "b_2017_Rchl = r_CHL_MONTHLY_B\n",
    "b_2017_Rchl['date'] = pd.date_range('2013-04-01', periods=73, freq='m')\n",
    "b_2017_Rchl = b_2017_Rchl.set_index(['date'])\n",
    "b_2017_Rchl = (b_2017_Rchl.loc['2017-04-01':'2018-04-01'])\n",
    "b_2017_Rchl_mean = float(b_2017_Rchl.mean())\n",
    "b_2018_Rchl = r_CHL_MONTHLY_B\n",
    "b_2018_Rchl['date'] = pd.date_range('2013-04-01', periods=73, freq='m')\n",
    "b_2018_Rchl = b_2018_Rchl.set_index(['date'])\n",
    "b_2018_Rchl = (b_2018_Rchl.loc['2018-04-01':'2019-04-01'])\n",
    "b_2018_Rchl_mean = float(b_2018_Rchl.mean())\n",
    "r_2013_PIP = PIP_MONTHLY_R\n",
    "r_2013_PIP['date'] = pd.date_range('2013-04-01', periods=73, freq='m')\n",
    "r_2013_PIP = r_2013_PIP.set_index(['date'])\n",
    "r_2013_PIP = (r_2013_PIP.loc['2013-04-01':'2014-04-01'])\n",
    "r_2013_PIP_mean = float(r_2013_PIP.mean())\n",
    "r_2017_PIP = PIP_MONTHLY_R\n",
    "r_2017_PIP['date'] = pd.date_range('2013-04-01', periods=73, freq='m')\n",
    "r_2017_PIP = r_2017_PIP.set_index(['date'])\n",
    "r_2017_PIP = (r_2017_PIP.loc['2017-04-01':'2018-04-01'])\n",
    "r_2017_PIP_mean = float(r_2017_PIP.mean())\n",
    "r_2018_PIP = PIP_MONTHLY_R\n",
    "r_2018_PIP['date'] = pd.date_range('2013-04-01', periods=73, freq='m')\n",
    "r_2018_PIP = r_2018_PIP.set_index(['date'])\n",
    "r_2018_PIP = (r_2018_PIP.loc['2018-04-01':'2019-04-01'])\n",
    "r_2018_PIP_mean = float(r_2018_PIP.mean())\n",
    "b_2013_PIP = PIP_MONTHLY_B\n",
    "b_2013_PIP['date'] = pd.date_range('2013-04-01', periods=73, freq='m')\n",
    "b_2013_PIP = b_2013_PIP.set_index(['date'])\n",
    "b_2013_PIP = (b_2013_PIP.loc['2013-04-01':'2014-04-01'])\n",
    "b_2013_PIP_mean = float(b_2013_PIP.mean())\n",
    "b_2018_PIP = PIP_MONTHLY_B\n",
    "b_2018_PIP['date'] = pd.date_range('2013-04-01', periods=73, freq='m')\n",
    "b_2018_PIP = b_2018_PIP.set_index(['date'])\n",
    "b_2018_PIP = (b_2018_PIP.loc['2018-04-01':'2019-04-01'])\n",
    "b_2018_PIP_mean = float(b_2018_PIP.mean())\n",
    "b_2017_PIP = PIP_MONTHLY_B\n",
    "b_2017_PIP['date'] = pd.date_range('2013-04-01', periods=73, freq='m')\n",
    "b_2017_PIP = b_2017_PIP.set_index(['date'])\n",
    "b_2017_PIP = (b_2017_PIP.loc['2017-04-01':'2018-04-01'])\n",
    "b_2017_PIP_mean = float(b_2017_PIP.mean())\n",
    "p_2018_PIP = PIP_MONTHLY_P\n",
    "p_2018_PIP['date'] = pd.date_range('2013-04-01', periods=73, freq='m')\n",
    "p_2018_PIP = p_2018_PIP.set_index(['date'])\n",
    "p_2018_PIP = (p_2018_PIP.loc['2018-04-01':'2019-04-01'])\n",
    "p_2018_PIP_mean = float(p_2018_PIP.mean())\n",
    "p_2017_PIP = PIP_MONTHLY_P\n",
    "p_2017_PIP['date'] = pd.date_range('2013-04-01', periods=73, freq='m')\n",
    "p_2017_PIP = p_2017_PIP.set_index(['date'])\n",
    "p_2017_PIP = (p_2017_PIP.loc['2017-04-01':'2018-04-01'])\n",
    "p_2017_PIP_mean = float(p_2017_PIP.mean())\n",
    "p_2013_PIP = PIP_MONTHLY_P\n",
    "p_2013_PIP['date'] = pd.date_range('2013-04-01', periods=73, freq='m')\n",
    "p_2013_PIP = p_2013_PIP.set_index(['date'])\n",
    "p_2013_PIP = (p_2013_PIP.loc['2013-04-01':'2014-04-01'])\n",
    "p_2013_PIP_mean = float(p_2013_PIP.mean())\n",
    "p_2018_DIN = DIN_MONTHLY_P\n",
    "p_2018_DIN['date'] = pd.date_range('2013-04-01', periods=73, freq='m')\n",
    "p_2018_DIN = p_2018_DIN.set_index(['date'])\n",
    "p_2018_DIN = (p_2018_DIN.loc['2018-04-01':'2019-04-01'])\n",
    "p_2018_DIN_mean = float(p_2018_DIN.mean())\n",
    "p_2017_DIN = DIN_MONTHLY_P\n",
    "p_2017_DIN['date'] = pd.date_range('2013-04-01', periods=73, freq='m')\n",
    "p_2017_DIN = p_2017_DIN.set_index(['date'])\n",
    "p_2017_DIN = (p_2017_DIN.loc['2017-04-01':'2018-04-01'])\n",
    "p_2017_DIN_mean = float(p_2017_DIN.mean())\n",
    "p_2013_DIN = DIN_MONTHLY_P\n",
    "p_2013_DIN['date'] = pd.date_range('2013-04-01', periods=73, freq='m')\n",
    "p_2013_DIN = p_2013_DIN.set_index(['date'])\n",
    "p_2013_DIN = (p_2013_DIN.loc['2013-04-01':'2014-04-01'])\n",
    "p_2013_DIN_mean = float(p_2013_DIN.mean())\n",
    "b_2018_DIN = DIN_MONTHLY_B\n",
    "b_2018_DIN['date'] = pd.date_range('2013-04-01', periods=73, freq='m')\n",
    "b_2018_DIN = b_2018_DIN.set_index(['date'])\n",
    "b_2018_DIN = (b_2018_DIN.loc['2018-04-01':'2019-04-01'])\n",
    "b_2018_DIN_mean = float(b_2018_DIN.mean())\n",
    "b_2017_DIN = DIN_MONTHLY_B\n",
    "b_2017_DIN['date'] = pd.date_range('2013-04-01', periods=73, freq='m')\n",
    "b_2017_DIN = b_2017_DIN.set_index(['date'])\n",
    "b_2017_DIN = (b_2017_DIN.loc['2017-04-01':'2018-04-01'])\n",
    "b_2017_DIN_mean = float(b_2017_DIN.mean())\n",
    "b_2013_DIN = DIN_MONTHLY_B\n",
    "b_2013_DIN['date'] = pd.date_range('2013-04-01', periods=73, freq='m')\n",
    "b_2013_DIN = b_2013_DIN.set_index(['date'])\n",
    "b_2013_DIN = (b_2013_DIN.loc['2013-04-01':'2014-04-01'])\n",
    "b_2013_DIN_mean = float(b_2013_DIN.mean())\n",
    "r_2018_DIN = DIN_MONTHLY_R\n",
    "r_2018_DIN['date'] = pd.date_range('2013-04-01', periods=73, freq='m')\n",
    "r_2018_DIN = r_2018_DIN.set_index(['date'])\n",
    "r_2018_DIN = (r_2018_DIN.loc['2018-04-01':'2019-04-01'])\n",
    "r_2018_DIN_mean = float(r_2018_DIN.mean())\n",
    "r_2017_DIN = DIN_MONTHLY_R\n",
    "r_2017_DIN['date'] = pd.date_range('2013-04-01', periods=73, freq='m')\n",
    "r_2017_DIN = r_2017_DIN.set_index(['date'])\n",
    "r_2017_DIN = (r_2017_DIN.loc['2017-04-01':'2018-04-01'])\n",
    "r_2017_DIN_mean = float(r_2017_DIN.mean())\n",
    "r_2013_DIN = DIN_MONTHLY_R\n",
    "r_2013_DIN['date'] = pd.date_range('2013-04-01', periods=73, freq='m')\n",
    "r_2013_DIN = r_2013_DIN.set_index(['date'])\n",
    "r_2013_DIN = (r_2013_DIN.loc['2013-04-01':'2014-04-01'])\n",
    "r_2013_DIN_mean = float(r_2013_DIN.mean())"
   ]
  },
  {
   "cell_type": "code",
   "execution_count": 36,
   "id": "f31c129e",
   "metadata": {},
   "outputs": [],
   "source": [
    "df = pd.Series([1,2,np.nan])"
   ]
  },
  {
   "cell_type": "code",
   "execution_count": 37,
   "id": "e08c1d63",
   "metadata": {},
   "outputs": [
    {
     "name": "stdout",
     "output_type": "stream",
     "text": [
      "0    1.0\n",
      "1    2.0\n",
      "2    NaN\n",
      "dtype: float64\n"
     ]
    }
   ],
   "source": [
    "print(df)\n"
   ]
  },
  {
   "cell_type": "code",
   "execution_count": 41,
   "id": "873351c4",
   "metadata": {},
   "outputs": [
    {
     "name": "stdout",
     "output_type": "stream",
     "text": [
      "Data Frame:    0  1\n",
      "0  1  2\n",
      "1  3  4\n"
     ]
    }
   ],
   "source": [
    "h = [[1,2],[3,4]] \n",
    "df_h = pd.DataFrame(h)\n",
    "print('Data Frame:', df_h)"
   ]
  },
  {
   "cell_type": "code",
   "execution_count": 42,
   "id": "5bae0d3b",
   "metadata": {},
   "outputs": [
    {
     "name": "stdout",
     "output_type": "stream",
     "text": [
      "Day: DatetimeIndex(['2030-01-01', '2030-01-02', '2030-01-03', '2030-01-04',\n",
      "               '2030-01-05', '2030-01-06'],\n",
      "              dtype='datetime64[ns]', freq='D')\n"
     ]
    }
   ],
   "source": [
    "dates_d = pd.date_range('20300101', periods=6, freq='D')\n",
    "print('Day:', dates_d)"
   ]
  },
  {
   "cell_type": "code",
   "execution_count": null,
   "id": "2039f535",
   "metadata": {},
   "outputs": [],
   "source": []
  },
  {
   "cell_type": "code",
   "execution_count": null,
   "id": "12d2f68d",
   "metadata": {},
   "outputs": [],
   "source": []
  },
  {
   "cell_type": "code",
   "execution_count": null,
   "id": "784d4e27",
   "metadata": {},
   "outputs": [],
   "source": []
  },
  {
   "cell_type": "code",
   "execution_count": null,
   "id": "17cdf1c9",
   "metadata": {},
   "outputs": [],
   "source": []
  },
  {
   "cell_type": "markdown",
   "id": "261a4b8c",
   "metadata": {},
   "source": [
    "## ∆ % = ((∆x2-∆x1)) / ∆x2  · 100"
   ]
  },
  {
   "cell_type": "code",
   "execution_count": 15,
   "id": "4b437795",
   "metadata": {},
   "outputs": [],
   "source": [
    "def get_change(current, previous):\n",
    "    if current == previous:\n",
    "        return 100.0\n",
    "    try:\n",
    "        return (float(current - previous) * 100.0)/previous\n",
    "    except ZeroDivisionError:\n",
    "        return 0"
   ]
  },
  {
   "cell_type": "code",
   "execution_count": 16,
   "id": "be78c417",
   "metadata": {},
   "outputs": [],
   "source": [
    "r_2017_PIP_change = get_change((r_2017_PIP_mean - p_2017_PIP_mean), (r_2013_PIP_mean - p_2013_PIP_mean))\n",
    "r_2018_PIP_change = get_change((r_2018_PIP_mean - p_2018_PIP_mean), (r_2013_PIP_mean - p_2013_PIP_mean))\n",
    "r_2017_DIN_change = get_change((r_2017_DIN_mean - p_2017_DIN_mean), (r_2013_DIN_mean - p_2013_DIN_mean))\n",
    "r_2018_DIN_change = get_change((r_2018_DIN_mean - p_2018_DIN_mean), (r_2013_DIN_mean - p_2013_DIN_mean))\n",
    "r_2017_Rchl_change = get_change((r_2017_Rchl_mean - p_2017_Rchl_mean), (r_2013_Rchl_mean - p_2013_Rchl_mean))\n",
    "r_2018_Rchl_change = get_change((r_2018_Rchl_mean - p_2018_Rchl_mean), (r_2013_Rchl_mean - p_2013_Rchl_mean))\n",
    "\n",
    "b_2017_PIP_change = get_change((b_2017_PIP_mean - p_2017_PIP_mean), (b_2013_PIP_mean - p_2013_PIP_mean))\n",
    "b_2018_PIP_change = get_change((b_2018_PIP_mean - p_2018_PIP_mean), (b_2013_PIP_mean - p_2013_PIP_mean))\n",
    "b_2017_DIN_change = get_change((b_2017_DIN_mean - p_2017_DIN_mean), (b_2013_DIN_mean - p_2013_DIN_mean))\n",
    "b_2018_DIN_change = get_change((b_2018_DIN_mean - p_2018_DIN_mean), (b_2013_DIN_mean - p_2013_DIN_mean))\n",
    "b_2017_Rchl_change = get_change((b_2017_Rchl_mean - p_2017_Rchl_mean), (b_2013_Rchl_mean - p_2013_Rchl_mean))\n",
    "b_2018_Rchl_change = get_change((b_2018_Rchl_mean - p_2018_Rchl_mean), (b_2013_Rchl_mean - p_2013_Rchl_mean))"
   ]
  },
  {
   "cell_type": "code",
   "execution_count": 34,
   "id": "8858cfc1",
   "metadata": {},
   "outputs": [
    {
     "data": {
      "text/plain": [
       "0.003641014898344952"
      ]
     },
     "execution_count": 34,
     "metadata": {},
     "output_type": "execute_result"
    }
   ],
   "source": [
    "b_2013_Rchl_mean - p_2013_Rchl_mean"
   ]
  },
  {
   "cell_type": "code",
   "execution_count": 18,
   "id": "695fb60e",
   "metadata": {},
   "outputs": [
    {
     "data": {
      "text/plain": [
       "110.76878794410527"
      ]
     },
     "execution_count": 18,
     "metadata": {},
     "output_type": "execute_result"
    }
   ],
   "source": [
    "r_2017_PIP_change"
   ]
  },
  {
   "cell_type": "code",
   "execution_count": 19,
   "id": "43e853b6",
   "metadata": {},
   "outputs": [
    {
     "data": {
      "text/plain": [
       "1191.977729232872"
      ]
     },
     "execution_count": 19,
     "metadata": {},
     "output_type": "execute_result"
    }
   ],
   "source": [
    "r_2018_PIP_change"
   ]
  },
  {
   "cell_type": "code",
   "execution_count": 20,
   "id": "55eced1a",
   "metadata": {},
   "outputs": [
    {
     "data": {
      "text/plain": [
       "-7.4569944887227235"
      ]
     },
     "execution_count": 20,
     "metadata": {},
     "output_type": "execute_result"
    }
   ],
   "source": [
    "r_2017_DIN_change"
   ]
  },
  {
   "cell_type": "code",
   "execution_count": 21,
   "id": "25ca3e9e",
   "metadata": {},
   "outputs": [
    {
     "data": {
      "text/plain": [
       "54.36694075343417"
      ]
     },
     "execution_count": 21,
     "metadata": {},
     "output_type": "execute_result"
    }
   ],
   "source": [
    "r_2018_DIN_change"
   ]
  },
  {
   "cell_type": "code",
   "execution_count": 22,
   "id": "6d8063ec",
   "metadata": {},
   "outputs": [
    {
     "data": {
      "text/plain": [
       "-18.949761981140227"
      ]
     },
     "execution_count": 22,
     "metadata": {},
     "output_type": "execute_result"
    }
   ],
   "source": [
    "r_2017_Rchl_change"
   ]
  },
  {
   "cell_type": "code",
   "execution_count": 23,
   "id": "744cd86c",
   "metadata": {},
   "outputs": [
    {
     "data": {
      "text/plain": [
       "145.08401205586216"
      ]
     },
     "execution_count": 23,
     "metadata": {},
     "output_type": "execute_result"
    }
   ],
   "source": [
    "r_2018_Rchl_change"
   ]
  },
  {
   "cell_type": "code",
   "execution_count": 24,
   "id": "5055c438",
   "metadata": {},
   "outputs": [
    {
     "data": {
      "text/plain": [
       "17.51536161965319"
      ]
     },
     "execution_count": 24,
     "metadata": {},
     "output_type": "execute_result"
    }
   ],
   "source": [
    "b_2017_DIN_change"
   ]
  },
  {
   "cell_type": "code",
   "execution_count": 25,
   "id": "84d431ff",
   "metadata": {},
   "outputs": [
    {
     "data": {
      "text/plain": [
       "68.19604337063325"
      ]
     },
     "execution_count": 25,
     "metadata": {},
     "output_type": "execute_result"
    }
   ],
   "source": [
    "b_2018_DIN_change"
   ]
  },
  {
   "cell_type": "code",
   "execution_count": 26,
   "id": "204e4a50",
   "metadata": {},
   "outputs": [
    {
     "data": {
      "text/plain": [
       "113.21061818135486"
      ]
     },
     "execution_count": 26,
     "metadata": {},
     "output_type": "execute_result"
    }
   ],
   "source": [
    "b_2017_PIP_change"
   ]
  },
  {
   "cell_type": "code",
   "execution_count": 27,
   "id": "4efd0299",
   "metadata": {},
   "outputs": [
    {
     "data": {
      "text/plain": [
       "1214.322621410568"
      ]
     },
     "execution_count": 27,
     "metadata": {},
     "output_type": "execute_result"
    }
   ],
   "source": [
    "b_2018_PIP_change"
   ]
  },
  {
   "cell_type": "code",
   "execution_count": 28,
   "id": "e0cbcfa8",
   "metadata": {},
   "outputs": [
    {
     "data": {
      "text/plain": [
       "-81.43378549964562"
      ]
     },
     "execution_count": 28,
     "metadata": {},
     "output_type": "execute_result"
    }
   ],
   "source": [
    "b_2017_Rchl_change"
   ]
  },
  {
   "cell_type": "code",
   "execution_count": 29,
   "id": "66e6a2b6",
   "metadata": {},
   "outputs": [
    {
     "data": {
      "text/plain": [
       "42.589586951689974"
      ]
     },
     "execution_count": 29,
     "metadata": {},
     "output_type": "execute_result"
    }
   ],
   "source": [
    "b_2018_Rchl_change"
   ]
  },
  {
   "cell_type": "code",
   "execution_count": null,
   "id": "e1d90a4c",
   "metadata": {},
   "outputs": [],
   "source": []
  },
  {
   "cell_type": "code",
   "execution_count": null,
   "id": "1585a317",
   "metadata": {},
   "outputs": [],
   "source": []
  },
  {
   "cell_type": "code",
   "execution_count": null,
   "id": "7afb0328",
   "metadata": {},
   "outputs": [],
   "source": []
  },
  {
   "cell_type": "code",
   "execution_count": null,
   "id": "65097108",
   "metadata": {},
   "outputs": [],
   "source": []
  }
 ],
 "metadata": {
  "kernelspec": {
   "display_name": "Python 3 (ipykernel)",
   "language": "python",
   "name": "python3"
  },
  "language_info": {
   "codemirror_mode": {
    "name": "ipython",
    "version": 3
   },
   "file_extension": ".py",
   "mimetype": "text/x-python",
   "name": "python",
   "nbconvert_exporter": "python",
   "pygments_lexer": "ipython3",
   "version": "3.9.7"
  }
 },
 "nbformat": 4,
 "nbformat_minor": 5
}
