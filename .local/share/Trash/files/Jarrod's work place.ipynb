{
 "cells": [
  {
   "cell_type": "code",
   "execution_count": 69,
   "id": "ce9a77f1",
   "metadata": {},
   "outputs": [],
   "source": [
    "import pandas as pd\n",
    "import numpy as np\n",
    "\n",
    "from matplotlib import pyplot as plt\n",
    "%matplotlib inline"
   ]
  },
  {
   "cell_type": "code",
   "execution_count": 70,
   "id": "6a810a7a",
   "metadata": {},
   "outputs": [
    {
     "data": {
      "text/plain": [
       "'/home'"
      ]
     },
     "execution_count": 70,
     "metadata": {},
     "output_type": "execute_result"
    }
   ],
   "source": [
    "pwd"
   ]
  },
  {
   "cell_type": "code",
   "execution_count": 71,
   "id": "bd78cc44",
   "metadata": {},
   "outputs": [],
   "source": [
    "p_monthly = pd.read_csv('/home/pmonthly.csv')\n",
    "p_daily = pd.read_csv('/home/pdaily.csv')\n",
    "b_monthly = pd.read_csv('/home/bmonthly.csv')\n",
    "b_daily = pd.read_csv('/home/bdaily.csv')\n",
    "r_monthly = pd.read_csv('/home/rmonthly.csv')\n",
    "r_daily = pd.read_csv('/home/rdaily.csv')\n",
    "r_p_monthly = pd.read_csv('/home/r_pmonthly.csv')\n",
    "r_p_daily = pd.read_csv('/home/r_pdaily.csv')\n",
    "r_b_monthly = pd.read_csv('/home/r_bmonthly.csv')\n",
    "r_b_daily = pd.read_csv('/home/r_bdaily.csv')\n",
    "r_r_monthly = pd.read_csv('/home/r_rmonthly.csv')\n",
    "r_r_daily = pd.read_csv('/home/r_rdaily.csv')"
   ]
  },
  {
   "cell_type": "code",
   "execution_count": 72,
   "id": "09b1ca4e",
   "metadata": {},
   "outputs": [],
   "source": [
    "var_DIN = ['DIN']\n",
    "var_PIP = ['PIP']\n",
    "var_TN = ['TOTAL_NITROGEN']\n",
    "var_CHL = ['Chl_a_sum']"
   ]
  },
  {
   "cell_type": "code",
   "execution_count": 87,
   "id": "f2d60f85",
   "metadata": {},
   "outputs": [],
   "source": [
    "def choose_one(dataset, var):\n",
    "    return dataset.loc[dataset['Variable'].isin(var)][['Aggregated Date/Time', 'mean']]"
   ]
  },
  {
   "cell_type": "code",
   "execution_count": 88,
   "id": "d07bcd2c",
   "metadata": {},
   "outputs": [],
   "source": [
    "p_monthly_DIN = choose_one(p_monthly, var_DIN)\n",
    "p_daily_DIN = choose_one(p_daily, var_DIN)\n",
    "b_monthly_DIN = choose_one(b_monthly, var_DIN)\n",
    "b_daily_DIN = choose_one(b_daily, var_DIN)\n",
    "r_monthly_DIN = choose_one(r_monthly, var_DIN)\n",
    "r_daily_DIN = choose_one(r_daily, var_DIN)"
   ]
  },
  {
   "cell_type": "code",
   "execution_count": 89,
   "id": "25c13e67",
   "metadata": {},
   "outputs": [
    {
     "data": {
      "text/html": [
       "<div>\n",
       "<style scoped>\n",
       "    .dataframe tbody tr th:only-of-type {\n",
       "        vertical-align: middle;\n",
       "    }\n",
       "\n",
       "    .dataframe tbody tr th {\n",
       "        vertical-align: top;\n",
       "    }\n",
       "\n",
       "    .dataframe thead th {\n",
       "        text-align: right;\n",
       "    }\n",
       "</style>\n",
       "<table border=\"1\" class=\"dataframe\">\n",
       "  <thead>\n",
       "    <tr style=\"text-align: right;\">\n",
       "      <th></th>\n",
       "      <th>Aggregated Date/Time</th>\n",
       "      <th>mean</th>\n",
       "    </tr>\n",
       "  </thead>\n",
       "  <tbody>\n",
       "    <tr>\n",
       "      <th>0</th>\n",
       "      <td>2013-04-01T00:00</td>\n",
       "      <td>26.394120</td>\n",
       "    </tr>\n",
       "    <tr>\n",
       "      <th>1</th>\n",
       "      <td>2013-04-01T00:00</td>\n",
       "      <td>5.343091</td>\n",
       "    </tr>\n",
       "    <tr>\n",
       "      <th>2</th>\n",
       "      <td>2013-04-01T00:00</td>\n",
       "      <td>0.823427</td>\n",
       "    </tr>\n",
       "    <tr>\n",
       "      <th>3</th>\n",
       "      <td>2013-04-01T00:00</td>\n",
       "      <td>1.040540</td>\n",
       "    </tr>\n",
       "    <tr>\n",
       "      <th>4</th>\n",
       "      <td>2013-04-01T00:00</td>\n",
       "      <td>13.213733</td>\n",
       "    </tr>\n",
       "    <tr>\n",
       "      <th>...</th>\n",
       "      <td>...</td>\n",
       "      <td>...</td>\n",
       "    </tr>\n",
       "    <tr>\n",
       "      <th>2880</th>\n",
       "      <td>2019-04-01T00:00</td>\n",
       "      <td>164.514308</td>\n",
       "    </tr>\n",
       "    <tr>\n",
       "      <th>2881</th>\n",
       "      <td>2019-04-01T00:00</td>\n",
       "      <td>91.045406</td>\n",
       "    </tr>\n",
       "    <tr>\n",
       "      <th>2882</th>\n",
       "      <td>2019-04-01T00:00</td>\n",
       "      <td>41.682598</td>\n",
       "    </tr>\n",
       "    <tr>\n",
       "      <th>2883</th>\n",
       "      <td>2019-04-01T00:00</td>\n",
       "      <td>58.166616</td>\n",
       "    </tr>\n",
       "    <tr>\n",
       "      <th>2884</th>\n",
       "      <td>2019-04-01T00:00</td>\n",
       "      <td>136.388520</td>\n",
       "    </tr>\n",
       "  </tbody>\n",
       "</table>\n",
       "<p>365 rows × 2 columns</p>\n",
       "</div>"
      ],
      "text/plain": [
       "     Aggregated Date/Time        mean\n",
       "0        2013-04-01T00:00   26.394120\n",
       "1        2013-04-01T00:00    5.343091\n",
       "2        2013-04-01T00:00    0.823427\n",
       "3        2013-04-01T00:00    1.040540\n",
       "4        2013-04-01T00:00   13.213733\n",
       "...                   ...         ...\n",
       "2880     2019-04-01T00:00  164.514308\n",
       "2881     2019-04-01T00:00   91.045406\n",
       "2882     2019-04-01T00:00   41.682598\n",
       "2883     2019-04-01T00:00   58.166616\n",
       "2884     2019-04-01T00:00  136.388520\n",
       "\n",
       "[365 rows x 2 columns]"
      ]
     },
     "execution_count": 89,
     "metadata": {},
     "output_type": "execute_result"
    }
   ],
   "source": [
    "p_monthly_DIN"
   ]
  },
  {
   "cell_type": "code",
   "execution_count": 91,
   "id": "c521c9f9",
   "metadata": {},
   "outputs": [
    {
     "name": "stdout",
     "output_type": "stream",
     "text": [
      "           Aggregated Date/Time       mean\n",
      "date                                      \n",
      "2013-04-30     2013-04-01T00:00  26.394120\n",
      "2013-05-31     2013-04-01T00:00   5.343091\n",
      "2013-06-30     2013-04-01T00:00   0.823427\n",
      "2013-07-31     2013-04-01T00:00   1.040540\n",
      "2013-08-31     2013-04-01T00:00  13.213733\n",
      "2013-09-30     2013-05-01T00:00  11.338070\n",
      "2013-10-31     2013-05-01T00:00   1.136144\n",
      "2013-11-30     2013-05-01T00:00   0.251569\n",
      "2013-12-31     2013-05-01T00:00   0.194275\n",
      "2014-01-31     2013-05-01T00:00   3.335427\n",
      "2014-02-28     2013-06-01T00:00   1.021446\n"
     ]
    }
   ],
   "source": [
    "p_2013_DIN = p_monthly_DIN\n",
    "p_2013_DIN['date'] = pd.date_range('2013-04-01', periods=365, freq='m')\n",
    "p_2013_DIN = p_2013_DIN.set_index(['date'])\n",
    "print(p_2013_DIN.loc['2013-04-01':'2014-03-01'])"
   ]
  },
  {
   "cell_type": "code",
   "execution_count": 77,
   "id": "9245b9da",
   "metadata": {},
   "outputs": [],
   "source": [
    "def produce_time(dataset):\n",
    "    time = []\n",
    "    for index, row in dataset.iterrows():\n",
    "        if row['Aggregated Date/Time'] not in time:\n",
    "            time.append(row['Aggregated Date/Time'])\n",
    "    return time"
   ]
  },
  {
   "cell_type": "code",
   "execution_count": 79,
   "id": "909dda67",
   "metadata": {},
   "outputs": [],
   "source": [
    "monthly_time = produce_time(p_2013_DIN)"
   ]
  },
  {
   "cell_type": "code",
   "execution_count": 80,
   "id": "dcb2badb",
   "metadata": {},
   "outputs": [],
   "source": [
    "def total_average(dataset, period, name):\n",
    "    average = []\n",
    "    count = 0\n",
    "    current = 0\n",
    "    for index, row in dataset.iterrows():\n",
    "        current += row['mean']\n",
    "        count += 1\n",
    "        if count == 5:\n",
    "            average.append(current / 5)\n",
    "            current = 0\n",
    "            count = 0\n",
    "    total_area_average = {name: average}\n",
    "    if period == 'm':\n",
    "        return pd.DataFrame(total_area_average, index = monthly_time)"
   ]
  },
  {
   "cell_type": "code",
   "execution_count": 82,
   "id": "57de4d60",
   "metadata": {},
   "outputs": [],
   "source": [
    "p_2013_DIN = total_average(p_monthly_DIN, 'm', 'p_2013_DIN')"
   ]
  },
  {
   "cell_type": "code",
   "execution_count": 83,
   "id": "49c524ae",
   "metadata": {
    "scrolled": true
   },
   "outputs": [
    {
     "data": {
      "text/html": [
       "<div>\n",
       "<style scoped>\n",
       "    .dataframe tbody tr th:only-of-type {\n",
       "        vertical-align: middle;\n",
       "    }\n",
       "\n",
       "    .dataframe tbody tr th {\n",
       "        vertical-align: top;\n",
       "    }\n",
       "\n",
       "    .dataframe thead th {\n",
       "        text-align: right;\n",
       "    }\n",
       "</style>\n",
       "<table border=\"1\" class=\"dataframe\">\n",
       "  <thead>\n",
       "    <tr style=\"text-align: right;\">\n",
       "      <th></th>\n",
       "      <th>p_2013_DIN</th>\n",
       "    </tr>\n",
       "  </thead>\n",
       "  <tbody>\n",
       "    <tr>\n",
       "      <th>2013-04-01T00:00</th>\n",
       "      <td>9.362982</td>\n",
       "    </tr>\n",
       "    <tr>\n",
       "      <th>2013-05-01T00:00</th>\n",
       "      <td>3.251097</td>\n",
       "    </tr>\n",
       "    <tr>\n",
       "      <th>2013-06-01T00:00</th>\n",
       "      <td>0.393752</td>\n",
       "    </tr>\n",
       "    <tr>\n",
       "      <th>2013-07-01T00:00</th>\n",
       "      <td>0.190812</td>\n",
       "    </tr>\n",
       "    <tr>\n",
       "      <th>2013-08-01T00:00</th>\n",
       "      <td>0.089198</td>\n",
       "    </tr>\n",
       "    <tr>\n",
       "      <th>...</th>\n",
       "      <td>...</td>\n",
       "    </tr>\n",
       "    <tr>\n",
       "      <th>2018-12-01T00:00</th>\n",
       "      <td>2.664967</td>\n",
       "    </tr>\n",
       "    <tr>\n",
       "      <th>2019-01-01T00:00</th>\n",
       "      <td>10.327300</td>\n",
       "    </tr>\n",
       "    <tr>\n",
       "      <th>2019-02-01T00:00</th>\n",
       "      <td>126.446478</td>\n",
       "    </tr>\n",
       "    <tr>\n",
       "      <th>2019-03-01T00:00</th>\n",
       "      <td>133.500417</td>\n",
       "    </tr>\n",
       "    <tr>\n",
       "      <th>2019-04-01T00:00</th>\n",
       "      <td>98.359490</td>\n",
       "    </tr>\n",
       "  </tbody>\n",
       "</table>\n",
       "<p>73 rows × 1 columns</p>\n",
       "</div>"
      ],
      "text/plain": [
       "                  p_2013_DIN\n",
       "2013-04-01T00:00    9.362982\n",
       "2013-05-01T00:00    3.251097\n",
       "2013-06-01T00:00    0.393752\n",
       "2013-07-01T00:00    0.190812\n",
       "2013-08-01T00:00    0.089198\n",
       "...                      ...\n",
       "2018-12-01T00:00    2.664967\n",
       "2019-01-01T00:00   10.327300\n",
       "2019-02-01T00:00  126.446478\n",
       "2019-03-01T00:00  133.500417\n",
       "2019-04-01T00:00   98.359490\n",
       "\n",
       "[73 rows x 1 columns]"
      ]
     },
     "execution_count": 83,
     "metadata": {},
     "output_type": "execute_result"
    }
   ],
   "source": [
    "p_2013_DIN"
   ]
  },
  {
   "cell_type": "code",
   "execution_count": null,
   "id": "9c262277",
   "metadata": {},
   "outputs": [],
   "source": []
  }
 ],
 "metadata": {
  "kernelspec": {
   "display_name": "Python 3 (ipykernel)",
   "language": "python",
   "name": "python3"
  },
  "language_info": {
   "codemirror_mode": {
    "name": "ipython",
    "version": 3
   },
   "file_extension": ".py",
   "mimetype": "text/x-python",
   "name": "python",
   "nbconvert_exporter": "python",
   "pygments_lexer": "ipython3",
   "version": "3.9.7"
  }
 },
 "nbformat": 4,
 "nbformat_minor": 5
}
